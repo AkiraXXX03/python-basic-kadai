{
  "nbformat": 4,
  "nbformat_minor": 0,
  "metadata": {
    "colab": {
      "provenance": []
    },
    "kernelspec": {
      "name": "python3",
      "display_name": "Python 3"
    },
    "language_info": {
      "name": "python"
    }
  },
  "cells": [
    {
      "cell_type": "code",
      "execution_count": null,
      "metadata": {
        "colab": {
          "base_uri": "https://localhost:8080/"
        },
        "id": "UF5gwkjEbrj_",
        "outputId": "0435be28-6ee2-4c16-d589-b4db7c782216"
      },
      "outputs": [
        {
          "output_type": "stream",
          "name": "stdout",
          "text": [
            "台形の面積は75.0cm²です。\n",
            "台形の面積は75.0cm²です。\n"
          ]
        }
      ],
      "source": [
        "upper = 10\n",
        "bottom = 20\n",
        "high = 5\n",
        "dim = ( upper + bottom ) * high / 2\n",
        "\n",
        "print(\"台形の面積は\" + str(dim) + \"cm²です。\")\n",
        "print(f\"台形の面積は{dim}cm²です。\")"
      ]
    }
  ]
}