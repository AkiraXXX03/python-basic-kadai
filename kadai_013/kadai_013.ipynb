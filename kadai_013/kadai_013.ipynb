{
  "nbformat": 4,
  "nbformat_minor": 0,
  "metadata": {
    "colab": {
      "provenance": []
    },
    "kernelspec": {
      "name": "python3",
      "display_name": "Python 3"
    },
    "language_info": {
      "name": "python"
    }
  },
  "cells": [
    {
      "cell_type": "code",
      "execution_count": 2,
      "metadata": {
        "colab": {
          "base_uri": "https://localhost:8080/"
        },
        "id": "fSLyg0K1aTwd",
        "outputId": "4d880dfa-b250-4803-f354-2a123639df99"
      },
      "outputs": [
        {
          "output_type": "stream",
          "name": "stdout",
          "text": [
            "税込み金額は121.00000000000001円です。\n"
          ]
        }
      ],
      "source": [
        "def price_with_tax(price, tax) -> float:\n",
        "  total = price * (1+tax/100)\n",
        "  return total\n",
        "\n",
        "payment_amount = price_with_tax(110, 10)\n",
        "print(f\"税込み金額は{payment_amount}円です。\")"
      ]
    }
  ]
}