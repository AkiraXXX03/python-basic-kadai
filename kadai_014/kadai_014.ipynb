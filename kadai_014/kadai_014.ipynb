{
  "nbformat": 4,
  "nbformat_minor": 0,
  "metadata": {
    "colab": {
      "provenance": []
    },
    "kernelspec": {
      "name": "python3",
      "display_name": "Python 3"
    },
    "language_info": {
      "name": "python"
    }
  },
  "cells": [
    {
      "cell_type": "code",
      "execution_count": 8,
      "metadata": {
        "colab": {
          "base_uri": "https://localhost:8080/"
        },
        "id": "6F7LnrcZ1yk_",
        "outputId": "425cd159-9852-4bb8-95b6-cbe69656d5c0"
      },
      "outputs": [
        {
          "output_type": "stream",
          "name": "stdout",
          "text": [
            "330.0\n"
          ]
        }
      ],
      "source": [
        "price1 = 100\n",
        "price2 = 200\n",
        "tax = 1.1\n",
        "\n",
        "def total():\n",
        "  return price1 + price2\n",
        "\n",
        "print (total() * tax)\n"
      ]
    }
  ]
}