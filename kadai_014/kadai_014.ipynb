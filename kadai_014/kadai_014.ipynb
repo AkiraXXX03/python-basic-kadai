{
  "nbformat": 4,
  "nbformat_minor": 0,
  "metadata": {
    "colab": {
      "provenance": []
    },
    "kernelspec": {
      "name": "python3",
      "display_name": "Python 3"
    },
    "language_info": {
      "name": "python"
    }
  },
  "cells": [
    {
      "cell_type": "code",
      "execution_count": 6,
      "metadata": {
        "colab": {
          "base_uri": "https://localhost:8080/"
        },
        "id": "6F7LnrcZ1yk_",
        "outputId": "13c331d4-8673-4cfd-b858-d8a4ef2b9fd7"
      },
      "outputs": [
        {
          "output_type": "execute_result",
          "data": {
            "text/plain": [
              "300"
            ]
          },
          "metadata": {},
          "execution_count": 6
        }
      ],
      "source": [
        "price1 = 100\n",
        "price2 = 200\n",
        "\n",
        "def total():\n",
        "  tax = 1.1\n",
        "  return price1 + price2\n",
        "  print (total() * tax)\n",
        "\n",
        "total()\n"
      ]
    }
  ]
}