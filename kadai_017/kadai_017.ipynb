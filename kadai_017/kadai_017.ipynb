{
  "nbformat": 4,
  "nbformat_minor": 0,
  "metadata": {
    "colab": {
      "provenance": []
    },
    "kernelspec": {
      "name": "python3",
      "display_name": "Python 3"
    },
    "language_info": {
      "name": "python"
    }
  },
  "cells": [
    {
      "cell_type": "code",
      "execution_count": null,
      "metadata": {
        "id": "UcKVTPGCYMqr"
      },
      "outputs": [],
      "source": [
        "名前(name)と年齢(age)の属性を持つHumanクラスを作成してください。\n",
        "Humanクラスには、以下の条件で標準出力(print)するcheck_adultメソッドを追加してください。\n",
        "ageが20以上の場合に大人であること\n",
        "そうでない場合に大人でないこと\n",
        "Humanクラスのインスタンスを複数生成してリストに追加し、リストの要素数分だけcheck_adultメソッドを呼び出してください。\n",
        "本教材で学習した「リスト・ディクショナリ」「条件分岐」「繰り返し処理」「関数」「変数のスコープ」「クラス」"
      ]
    },
    {
      "cell_type": "code",
      "source": [
        "class Human:\n",
        "  def __init__ (self, family_name : str, member_lists : dict):\n",
        "    self.family_name = family_name\n",
        "    self.member_lists = member_lists\n",
        "\n",
        "  # 20歳以上かどうかの条件分岐\n",
        "  def check_adult(self):\n",
        "    results = [f\"■{self.family_name}家\"]\n",
        "    for name, age in self.member_lists.items():\n",
        "      if age >= 20:\n",
        "        results.append(f\"{name}は大人です。\")\n",
        "      else:\n",
        "        results.append(f\"{name}は未成年です。\")\n",
        "    # return \",\".join(results)    # コンマで区切りたい場合\n",
        "    return \"\\n\".join(results) # 改行したい場合\n",
        "\n",
        "# インスタンス化\n",
        "shimon = Human(\"Shimon\", {\"Bob\":42, \"Alison\":40, \"Lily\":5, \"Nancy\": 2})\n",
        "white = Human(\"White\", {\"Michel\":63, \"Richel\": 59, \"Ricky\":28, \"John\":19, \"Roy\":3})"
      ],
      "metadata": {
        "id": "Poa_9U3XYisR"
      },
      "execution_count": 25,
      "outputs": []
    },
    {
      "cell_type": "code",
      "source": [
        "families = [shimon, white]\n",
        "for family in families:\n",
        "  print(family.check_adult())\n",
        "  print()"
      ],
      "metadata": {
        "colab": {
          "base_uri": "https://localhost:8080/"
        },
        "id": "dYKaAX4RdpXZ",
        "outputId": "0bb1f957-3732-451d-dac7-b252087cf174"
      },
      "execution_count": 26,
      "outputs": [
        {
          "output_type": "stream",
          "name": "stdout",
          "text": [
            "■Shimon家\n",
            "Bobは大人です。\n",
            "Alisonは大人です。\n",
            "Lilyは未成年です。\n",
            "Nancyは未成年です。\n",
            "\n",
            "■White家\n",
            "Michelは大人です。\n",
            "Richelは大人です。\n",
            "Rickyは大人です。\n",
            "Johnは未成年です。\n",
            "Royは未成年です。\n",
            "\n"
          ]
        }
      ]
    }
  ]
}