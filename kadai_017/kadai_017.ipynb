{
  "nbformat": 4,
  "nbformat_minor": 0,
  "metadata": {
    "colab": {
      "provenance": []
    },
    "kernelspec": {
      "name": "python3",
      "display_name": "Python 3"
    },
    "language_info": {
      "name": "python"
    }
  },
  "cells": [
    {
      "cell_type": "code",
      "execution_count": 38,
      "metadata": {
        "id": "UcKVTPGCYMqr",
        "colab": {
          "base_uri": "https://localhost:8080/",
          "height": 111
        },
        "collapsed": true,
        "outputId": "0d2ef53b-4fd6-41ca-8024-d97c2ff60019"
      },
      "outputs": [
        {
          "output_type": "error",
          "ename": "SyntaxError",
          "evalue": "invalid character '。' (U+3002) (ipython-input-4218842573.py, line 1)",
          "traceback": [
            "\u001b[0;36m  File \u001b[0;32m\"/tmp/ipython-input-4218842573.py\"\u001b[0;36m, line \u001b[0;32m1\u001b[0m\n\u001b[0;31m    名前(name)と年齢(age)の属性を持つHumanクラスを作成してください。\u001b[0m\n\u001b[0m                                           ^\u001b[0m\n\u001b[0;31mSyntaxError\u001b[0m\u001b[0;31m:\u001b[0m invalid character '。' (U+3002)\n"
          ]
        }
      ],
      "source": [
        "名前(name)と年齢(age)の属性を持つHumanクラスを作成してください。\n",
        "Humanクラスには、以下の条件で標準出力(print)するcheck_adultメソッドを追加してください。\n",
        "ageが20以上の場合に大人であること\n",
        "そうでない場合に大人でないこと\n",
        "Humanクラスのインスタンスを複数生成してリストに追加し、リストの要素数分だけcheck_adultメソッドを呼び出してください。\n",
        "本教材で学習した「リスト・ディクショナリ」「条件分岐」「繰り返し処理」「関数」「変数のスコープ」「クラス」"
      ]
    },
    {
      "cell_type": "code",
      "source": [
        "class Human:\n",
        "  def __init__ (self, name : str, age : int):\n",
        "    self.name = name\n",
        "    self.age = age\n",
        "\n",
        "  # 20歳以上かどうかの条件分岐\n",
        "  def check_adult(self):\n",
        "      if self.age >= 20:\n",
        "        return f\"{self.name}は大人です。\"\n",
        "      else:\n",
        "        return f\"{self.name}は未成年です。\"\n",
        "\n",
        "# インスタンス化\n",
        "person1 = Human(\"Bob\", 42)\n",
        "person2 = Human(\"Alison\", 40)\n",
        "person3 = Human(\"Lily\", 5)"
      ],
      "metadata": {
        "id": "Poa_9U3XYisR"
      },
      "execution_count": 42,
      "outputs": []
    },
    {
      "cell_type": "code",
      "source": [
        "persons = [person1, person2, person3]\n",
        "for person in persons:\n",
        "  print(person.check_adult())"
      ],
      "metadata": {
        "colab": {
          "base_uri": "https://localhost:8080/"
        },
        "id": "dYKaAX4RdpXZ",
        "outputId": "03ce06bc-3203-4347-d077-d1ecde698b36"
      },
      "execution_count": 44,
      "outputs": [
        {
          "output_type": "stream",
          "name": "stdout",
          "text": [
            "Bobは大人です。\n",
            "Alisonは大人です。\n",
            "Lilyは未成年です。\n"
          ]
        }
      ]
    }
  ]
}